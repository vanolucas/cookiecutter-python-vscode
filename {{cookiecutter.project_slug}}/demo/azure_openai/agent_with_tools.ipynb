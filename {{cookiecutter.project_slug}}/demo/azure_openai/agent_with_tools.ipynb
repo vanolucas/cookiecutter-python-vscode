{
 "cells": [
  {
   "cell_type": "code",
   "execution_count": null,
   "metadata": {},
   "outputs": [],
   "source": [
    "import json\n",
    "from os import environ, makedirs, walk\n",
    "from pathlib import Path, PurePath\n",
    "\n",
    "from openai import AzureOpenAI\n",
    "from openai.types.chat import (\n",
    "    ChatCompletion,\n",
    ")"
   ]
  },
  {
   "cell_type": "code",
   "execution_count": null,
   "metadata": {},
   "outputs": [],
   "source": [
    "endpoint = environ[\"AZURE_OPENAI_ENDPOINT\"]\n",
    "api_key = environ[\"AZURE_OPENAI_KEY\"]\n",
    "api_version = \"2023-09-01-preview\"\n",
    "model_deployment = \"gpt-35-turbo-0613\""
   ]
  },
  {
   "cell_type": "code",
   "execution_count": null,
   "metadata": {},
   "outputs": [],
   "source": [
    "data_dir = \"data/\""
   ]
  },
  {
   "cell_type": "code",
   "execution_count": null,
   "metadata": {},
   "outputs": [],
   "source": [
    "client = AzureOpenAI(\n",
    "    azure_endpoint=endpoint, api_version=api_version, api_key=api_key\n",
    ")"
   ]
  },
  {
   "cell_type": "code",
   "execution_count": null,
   "metadata": {},
   "outputs": [],
   "source": [
    "messages = [\n",
    "    {\n",
    "        \"role\": \"system\",\n",
    "        \"content\": \"You are an expert Python developer \"\n",
    "        \"with great experience in writing clear and efficient solutions. \"\n",
    "        \"Use the provided tools to manage the files \"\n",
    "        \"that you need to read or write.\",\n",
    "    },\n",
    "    {\n",
    "        \"role\": \"user\",\n",
    "        \"content\": \"Create a small Python package called `clock` \"\n",
    "        \"that provides two classes.\\n\\n\"\n",
    "        \"The first class is a `Clock` that implements the observable pattern. \"\n",
    "        \"Each second, the `Clock` notifies all of its listeners \"\n",
    "        \"that a `tick` happened.\\n\\n\"\n",
    "        \"The second class of the package is `ClockPrinter`. \"\n",
    "        \"It is meant to be a `Clock` listener. \"\n",
    "        \"It provides a method `on_tick` that gets called by `Clock` \"\n",
    "        \"each second and prints the time at which the tick happened.\\n\\n\"\n",
    "        \"Make sure to write an example code file outside of the package that \"\n",
    "        \"demonstrates how to use it.\\n\\n\"\n",
    "        \"Start by writing a short numbered todo list of \"\n",
    "        \"the tasks you need to do. \"\n",
    "        \"Please call the `done` tool once you are done. \"\n",
    "        \"Thanks!\",\n",
    "    },\n",
    "]"
   ]
  },
  {
   "cell_type": "code",
   "execution_count": null,
   "metadata": {},
   "outputs": [],
   "source": [
    "tools = [\n",
    "    # List files\n",
    "    {\n",
    "        \"type\": \"function\",\n",
    "        \"function\": {\n",
    "            \"name\": \"list_files\",\n",
    "            \"description\": \"Returns the list of all existing files.\",\n",
    "            \"parameters\": {\n",
    "                \"type\": \"object\",\n",
    "                \"properties\": {},\n",
    "                \"required\": [],\n",
    "            },\n",
    "        },\n",
    "    },\n",
    "    # Write file\n",
    "    {\n",
    "        \"type\": \"function\",\n",
    "        \"function\": {\n",
    "            \"name\": \"write_file\",\n",
    "            \"description\": \"Writes the provided text content to the \"\n",
    "            \"provided file path. Returns 'OK' on success.\",\n",
    "            \"parameters\": {\n",
    "                \"type\": \"object\",\n",
    "                \"properties\": {\n",
    "                    \"file_path\": {\n",
    "                        \"type\": \"string\",\n",
    "                        \"description\": \"Path of the file to write to. \"\n",
    "                        \"e.g. 'some_dir/my_file.py'\",\n",
    "                    },\n",
    "                    \"content\": {\n",
    "                        \"type\": \"string\",\n",
    "                        \"description\": \"The text content to write to the file.\",\n",
    "                    },\n",
    "                },\n",
    "                \"required\": [\"file_path\", \"content\"],\n",
    "            },\n",
    "        },\n",
    "    },\n",
    "    # Done\n",
    "    {\n",
    "        \"type\": \"function\",\n",
    "        \"function\": {\n",
    "            \"name\": \"done\",\n",
    "            \"description\": \"Call this once you are done with all your tasks.\",\n",
    "            \"parameters\": {\n",
    "                \"type\": \"object\",\n",
    "                \"properties\": {},\n",
    "                \"required\": [],\n",
    "            },\n",
    "        },\n",
    "    },\n",
    "]"
   ]
  },
  {
   "cell_type": "code",
   "execution_count": null,
   "metadata": {},
   "outputs": [],
   "source": [
    "def list_files() -> str:\n",
    "    result: list[str] = []\n",
    "    for path, subdirs, files in walk(data_dir):\n",
    "        for filename in files:\n",
    "            result.append(str(PurePath(path, filename))[5:])\n",
    "    return \"\\n\".join(result)"
   ]
  },
  {
   "cell_type": "code",
   "execution_count": null,
   "metadata": {},
   "outputs": [],
   "source": [
    "def write_file(file_path: str, content: str) -> str:\n",
    "    path = Path(PurePath(data_dir, file_path))\n",
    "    if not path.parent.exists():\n",
    "        makedirs(path.parent.resolve())\n",
    "    with open(path, \"w\", encoding=\"utf-8\") as f:\n",
    "        f.write(content)\n",
    "    return \"OK\""
   ]
  },
  {
   "cell_type": "code",
   "execution_count": null,
   "metadata": {},
   "outputs": [],
   "source": [
    "done: list[bool] = [False]\n",
    "\n",
    "\n",
    "def terminate() -> None:\n",
    "    done[0] = True"
   ]
  },
  {
   "cell_type": "code",
   "execution_count": null,
   "metadata": {},
   "outputs": [],
   "source": [
    "available_functions = {\n",
    "    \"list_files\": list_files,\n",
    "    \"write_file\": write_file,\n",
    "    \"done\": terminate,\n",
    "}"
   ]
  },
  {
   "cell_type": "code",
   "execution_count": null,
   "metadata": {},
   "outputs": [],
   "source": [
    "def request_chat_completion(messages: list) -> ChatCompletion:\n",
    "    return client.chat.completions.create(\n",
    "        model=model_deployment,\n",
    "        temperature=0.2,\n",
    "        messages=messages,\n",
    "        tools=tools,\n",
    "        tool_choice=\"auto\",\n",
    "    )"
   ]
  },
  {
   "cell_type": "code",
   "execution_count": null,
   "metadata": {},
   "outputs": [],
   "source": [
    "def process_completion(completion: ChatCompletion) -> None:\n",
    "    # Get response message\n",
    "    response_message = completion.choices[0].message\n",
    "    response_message.content = response_message.content or \"\"\n",
    "    messages.append(response_message)\n",
    "\n",
    "    # Call tools\n",
    "    tool_calls = response_message.tool_calls\n",
    "    if tool_calls:\n",
    "        for tool_call in tool_calls:\n",
    "            function_name = tool_call.function.name\n",
    "            function_to_call = available_functions[function_name]\n",
    "            function_args = json.loads(tool_call.function.arguments)\n",
    "            print(f\"Calling {function_name}({function_args})...\")\n",
    "            function_response = function_to_call(**function_args)\n",
    "            messages.append(\n",
    "                {\n",
    "                    \"tool_call_id\": tool_call.id,\n",
    "                    \"role\": \"tool\",\n",
    "                    \"name\": function_name,\n",
    "                    \"content\": function_response or \"\",\n",
    "                }\n",
    "            )"
   ]
  },
  {
   "cell_type": "code",
   "execution_count": null,
   "metadata": {},
   "outputs": [],
   "source": [
    "while not done[0]:\n",
    "    completion = request_chat_completion(messages)\n",
    "    process_completion(completion)"
   ]
  },
  {
   "cell_type": "code",
   "execution_count": null,
   "metadata": {},
   "outputs": [],
   "source": [
    "# Print messages\n",
    "for message in messages:\n",
    "    print(f\"{type(message)}:\\n{message}\\n\\n\")"
   ]
  },
  {
   "cell_type": "code",
   "execution_count": null,
   "metadata": {},
   "outputs": [],
   "source": [
    "messages.append({\"role\": \"user\", \"content\": \"Thanks\"})\n",
    "done[0] = False"
   ]
  }
 ],
 "metadata": {
  "kernelspec": {
   "display_name": "Python 3",
   "language": "python",
   "name": "python3"
  },
  "language_info": {
   "codemirror_mode": {
    "name": "ipython",
    "version": 3
   },
   "file_extension": ".py",
   "mimetype": "text/x-python",
   "name": "python",
   "nbconvert_exporter": "python",
   "pygments_lexer": "ipython3",
   "version": "3.12.0"
  }
 },
 "nbformat": 4,
 "nbformat_minor": 2
}
