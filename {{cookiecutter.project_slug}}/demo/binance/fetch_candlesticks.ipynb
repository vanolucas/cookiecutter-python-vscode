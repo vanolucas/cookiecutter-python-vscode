{
 "cells": [
  {
   "cell_type": "code",
   "execution_count": 1,
   "metadata": {},
   "outputs": [],
   "source": [
    "import json\n",
    "\n",
    "from binance import Client"
   ]
  },
  {
   "cell_type": "code",
   "execution_count": 2,
   "metadata": {},
   "outputs": [],
   "source": [
    "client = Client()"
   ]
  },
  {
   "cell_type": "markdown",
   "metadata": {},
   "source": [
    "# Exchange info"
   ]
  },
  {
   "cell_type": "code",
   "execution_count": 3,
   "metadata": {},
   "outputs": [],
   "source": [
    "exchange_info = client.get_exchange_info()\n",
    "\n",
    "with open(\"exchange_info.json\", \"w\", encoding=\"utf-8\") as f:\n",
    "    json.dump(exchange_info, f, indent=4)"
   ]
  },
  {
   "cell_type": "markdown",
   "metadata": {},
   "source": [
    "# Pairs"
   ]
  },
  {
   "cell_type": "code",
   "execution_count": 4,
   "metadata": {},
   "outputs": [],
   "source": [
    "pairs = [\n",
    "    {\"symbol\": s[\"symbol\"], \"base\": s[\"baseAsset\"], \"quote\": s[\"quoteAsset\"]}\n",
    "    for s in exchange_info[\"symbols\"]\n",
    "]\n",
    "\n",
    "with open(\"pairs.json\", \"w\", encoding=\"utf-8\") as f:\n",
    "    json.dump(pairs, f, indent=4)"
   ]
  },
  {
   "cell_type": "markdown",
   "metadata": {},
   "source": [
    "# Klines"
   ]
  },
  {
   "cell_type": "code",
   "execution_count": 5,
   "metadata": {},
   "outputs": [],
   "source": [
    "SYMBOL = \"BTCUSDT\"\n",
    "INTERVAL = client.KLINE_INTERVAL_1MONTH"
   ]
  },
  {
   "cell_type": "code",
   "execution_count": 6,
   "metadata": {},
   "outputs": [],
   "source": [
    "klines = client.get_klines(symbol=SYMBOL, interval=INTERVAL)\n",
    "\n",
    "with open(\"klines.json\", \"w\", encoding=\"utf-8\") as f:\n",
    "    json.dump(klines, f, indent=4)"
   ]
  }
 ],
 "metadata": {
  "kernelspec": {
   "display_name": "Python 3",
   "language": "python",
   "name": "python3"
  },
  "language_info": {
   "codemirror_mode": {
    "name": "ipython",
    "version": 3
   },
   "file_extension": ".py",
   "mimetype": "text/x-python",
   "name": "python",
   "nbconvert_exporter": "python",
   "pygments_lexer": "ipython3",
   "version": "3.11.4"
  }
 },
 "nbformat": 4,
 "nbformat_minor": 2
}
